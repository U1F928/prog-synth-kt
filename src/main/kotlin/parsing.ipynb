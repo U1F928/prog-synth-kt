{
 "cells": [
  {
   "cell_type": "code",
   "metadata": {
    "collapsed": true,
    "ExecuteTime": {
     "end_time": "2025-09-21T14:49:06.458155978Z",
     "start_time": "2025-09-21T14:49:06.309845138Z"
    }
   },
   "source": [
    "val x = \"\"\"\n",
    "SUBROUTINE mySubroutine\n",
    "    ENTRY NODE node1\n",
    "    EXIT NODE node 3\n",
    "    FROM node1\n",
    "        ON INPUT 'a'\n",
    "        GOTO myNode2\n",
    "    NODE myNode2\n",
    "END\n",
    "\"\"\""
   ],
   "outputs": [],
   "execution_count": 1
  },
  {
   "metadata": {
    "ExecuteTime": {
     "end_time": "2025-09-21T15:04:44.449826565Z",
     "start_time": "2025-09-21T15:04:43.936863530Z"
    }
   },
   "cell_type": "code",
   "source": [
    "sealed interface parseProgram.Keyword\n",
    "\n",
    "@JvmInline\n",
    "\n",
    "value class parseProgram.NodeName(val name: String) {\n",
    "    init {\n",
    "        check(name.first().isLetter())\n",
    "        check(name.first().isLowerCase())\n",
    "    }\n",
    "\n",
    "    companion object {\n",
    "        fun isValidNodeName(name: String): Boolean {\n",
    "            val firstChar = name.first()\n",
    "            return firstChar.isLetter() && firstChar.isLowerCase()\n",
    "        }\n",
    "    }\n",
    "}\n",
    "data class parseProgram.StartSubroutineDefinition( val subroutineName: String ): parseProgram.Keyword {\n",
    "    companion object {\n",
    "        const val STRING_NAME = \"SUBROUTINE\"\n",
    "    }\n",
    "\n",
    "\n",
    "}\n",
    "\n",
    "data object parseProgram.EndSubroutineDefinition: parseProgram.Keyword\n",
    "\n",
    "data class parseProgram.FromNode( val nodeName: String )\n",
    "\n",
    "data class parseProgram.OnInputStack( val conditionalValue: Byte )\n",
    "\n",
    "\n",
    "data class parseProgram.GotoNode(val nodeName: String)"
   ],
   "outputs": [],
   "execution_count": 4
  },
  {
   "metadata": {
    "ExecuteTime": {
     "end_time": "2025-09-21T14:53:00.615046974Z",
     "start_time": "2025-09-21T14:53:00.180625426Z"
    }
   },
   "cell_type": "code",
   "outputs": [],
   "execution_count": 2,
   "source": ""
  },
  {
   "metadata": {},
   "cell_type": "code",
   "outputs": [],
   "execution_count": null,
   "source": [
    "sealed interface parseProgram.ParseResult{\n",
    "    data class Success(\n",
    "        val remainingText: String,\n",
    "        val parsedParsedInstruction: parseProgram.ParsedInstruction\n",
    "    )\n",
    "\n",
    "    data object Error\n",
    "\n",
    "}\n",
    "\n",
    "fun parseProgram.parseStartSubroutineDefinition(text: String): parseProgram.InstructionParseResult {\n",
    "    val words = text.replace(\"\\n\", \"\").split(\" \")\n",
    "\n",
    "    if(words.size < 2)\n",
    "        return parseProgram.ParseResult.Error\n",
    "\n",
    "    if(words[0] != parseProgram.StartSubroutineDefinition.STRING_NAME)\n",
    "        return parseProgram.ParseResult.Error\n",
    "\n",
    "    val nodeName = words[1]\n",
    "    if(!parseProgram.NodeName.isValidNodeName(nodeName)){\n",
    "        return parseProgram.ParseResult.Error\n",
    "    }\n",
    "\n",
    "    val openSubroutineDefinition = parseProgram.StartSubroutineDefinition(subroutineName =)\n",
    "    return parseProgram.ParseResult.Success(\n",
    "        remainingText = words.drop(2),\n",
    "        parsedKeyword =\n",
    "\n",
    "    )\n",
    "\n",
    "\n",
    "\n",
    "\n",
    "}\n",
    "\n",
    "\n",
    "\n"
   ]
  }
 ],
 "metadata": {
  "kernelspec": {
   "display_name": "Kotlin",
   "language": "kotlin",
   "name": "kotlin"
  },
  "language_info": {
   "name": "kotlin",
   "version": "2.2.20-Beta2",
   "mimetype": "text/x-kotlin",
   "file_extension": ".kt",
   "pygments_lexer": "kotlin",
   "codemirror_mode": "text/x-kotlin",
   "nbconvert_exporter": ""
  }
 },
 "nbformat": 4,
 "nbformat_minor": 0
}
