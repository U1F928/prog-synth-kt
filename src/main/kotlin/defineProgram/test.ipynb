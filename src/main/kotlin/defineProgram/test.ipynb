{
 "cells": [
  {
   "cell_type": "code",
   "metadata": {
    "collapsed": true,
    "ExecuteTime": {
     "end_time": "2025-10-11T11:20:08.669870933Z",
     "start_time": "2025-10-11T11:20:08.337323732Z"
    }
   },
   "source": [
    "import kotlin.reflect.KProperty\n",
    "\n",
    "data class Program(\n",
    "    var subroutines: List<Subroutine>,\n",
    ")\n",
    "\n",
    "fun program(init: Program.() -> Unit): Program {\n",
    "    val program = Program(subroutines = emptyList())\n",
    "    program.init()\n",
    "    return program\n",
    "}\n",
    "\n",
    "fun Program.subroutine(\n",
    "    initializeSubroutine: Subroutine.() -> Unit\n",
    ") = SubroutineDelegate(\n",
    "    initializeSubroutine = initializeSubroutine,\n",
    "    addSubroutine = { this.subroutines += it}\n",
    ")\n",
    "\n",
    "data class Subroutine(\n",
    "    var name: String,\n",
    "    val nodeDelegate: NodeDelegate = NodeDelegate()\n",
    ")\n",
    "\n",
    "\n",
    "\n",
    "data class SubroutineDelegate(\n",
    "    val initializeSubroutine: Subroutine.() -> Unit,\n",
    "    val addSubroutine: (Subroutine) -> Unit,\n",
    "){\n",
    "    operator fun getValue(thisRef: Any?, property: KProperty<*>): Subroutine {\n",
    "        val subroutine = Subroutine(\n",
    "            name = property.name,\n",
    "            nodeDelegate = NodeDelegate(\n",
    "                nodes = emptyList()\n",
    "            )\n",
    "        )\n",
    "        subroutine.initializeSubroutine()\n",
    "        addSubroutine(subroutine)\n",
    "        return subroutine\n",
    "    }\n",
    "}\n",
    "\n",
    "fun Subroutine.node() = this.nodeDelegate\n",
    "\n",
    "data class NodeDelegate(\n",
    "    var nodes: List<Node> = emptyList()\n",
    "){\n",
    "    operator fun getValue(thisRef: Any?, property: KProperty<*>): Node {\n",
    "        val node = Node(property.name)\n",
    "        nodes += node\n",
    "        return node\n",
    "    }\n",
    "}\n",
    "\n",
    "\n",
    "data class Node(\n",
    "    val name: String\n",
    "){\n",
    "}\n",
    "\n",
    "data class NodePair(\n",
    "    val fromNode: Node,\n",
    "    val toNode: Node\n",
    ")\n",
    "\n",
    "infix fun Node.to(toNode: Node): NodePair {\n",
    "    return NodePair(\n",
    "        fromNode = this,\n",
    "        toNode = toNode\n",
    "    )\n",
    "}\n",
    "\n",
    "\n",
    "x"
   ],
   "outputs": [
    {
     "data": {
      "text/plain": [
       "Program(subroutines=[])"
      ]
     },
     "execution_count": 14,
     "metadata": {},
     "output_type": "execute_result"
    }
   ],
   "execution_count": 14
  },
  {
   "metadata": {
    "ExecuteTime": {
     "end_time": "2025-10-11T10:59:47.872224901Z",
     "start_time": "2025-10-11T10:59:03.613807290Z"
    }
   },
   "cell_type": "code",
   "source": "\n",
   "outputs": [],
   "execution_count": 25
  }
 ],
 "metadata": {
  "kernelspec": {
   "display_name": "Kotlin",
   "language": "kotlin",
   "name": "kotlin"
  },
  "language_info": {
   "name": "kotlin",
   "version": "2.2.20-Beta2",
   "mimetype": "text/x-kotlin",
   "file_extension": ".kt",
   "pygments_lexer": "kotlin",
   "codemirror_mode": "text/x-kotlin",
   "nbconvert_exporter": ""
  }
 },
 "nbformat": 4,
 "nbformat_minor": 0
}
